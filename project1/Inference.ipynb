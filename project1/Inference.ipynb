{
 "cells": [
  {
   "cell_type": "code",
   "execution_count": 2,
   "metadata": {},
   "outputs": [
    {
     "name": "stderr",
     "output_type": "stream",
     "text": [
      "Using TensorFlow backend.\n"
     ]
    }
   ],
   "source": [
    "import numpy as np\n",
    "import pandas as pd\n",
    "import pydicom\n",
    "%matplotlib inline\n",
    "import matplotlib.pyplot as plt\n",
    "import keras \n",
    "from keras.models import model_from_json\n",
    "from skimage.transform import resize"
   ]
  },
  {
   "cell_type": "code",
   "execution_count": 3,
   "metadata": {},
   "outputs": [],
   "source": [
    "# This function reads in a .dcm file, checks the important fields for our device, and returns a numpy array\n",
    "# of just the imaging data\n",
    "def check_dicom(filename): \n",
    "    # todo\n",
    "    \n",
    "    print('Load file {} ...'.format(filename))\n",
    "    ds = pydicom.dcmread(filename)       \n",
    "    img = ds.pixel_array\n",
    "    \n",
    "    # Body Part\n",
    "    body_part = ds.BodyPartExamined\n",
    "    if body_part not in ['CHEST', 'chest']:\n",
    "        print(f'Image {filename} rejected, Body part: {body_part}')\n",
    "        return None\n",
    "    \n",
    "    # Patient Position\n",
    "    pos = ds.PatientPosition\n",
    "    if pos not in ['PA', 'AP']:\n",
    "        print(f'Image {filename} rejected, Patient position: {pos}')\n",
    "        return None\n",
    "    \n",
    "    # Modali\n",
    "    mod = ds.Modality                            \n",
    "    if mod != 'DX':\n",
    "        print(f'Image {filename} rejected, Modality: {mod}')\n",
    "        return None\n",
    "    \n",
    "    findings = ds.StudyDescription\n",
    "    print('Findings:', findings)\n",
    "    plt.imshow(img, cmap='gray')\n",
    "    plt.show()\n",
    "    \n",
    "    return img\n",
    "    \n",
    "    \n",
    "# This function takes the numpy array output by check_dicom and \n",
    "# runs the appropriate pre-processing needed for our model input\n",
    "def preprocess_image(img,img_size): \n",
    "    norm_img  = img / 255\n",
    "    resized_img = resize(img, (img_size[1], img_size[2]))\n",
    "    proc_img = resized_img.reshape((1, img_size[1], img_size[2], 1))\n",
    "    proc_img = np.repeat(proc_img, img_size[3], axis=3)\n",
    "    \n",
    "    return proc_img\n",
    "\n",
    "# This function loads in our trained model w/ weights and compiles it \n",
    "def load_model(model_path, weight_path):\n",
    "    \n",
    "    with open(model_path,'r') as json_file:\n",
    "        model_json=json_file.read()\n",
    "        print(\"Loading from json\")\n",
    "        model=model_from_json(model_json)\n",
    "        model.load_weights(weight_path)\n",
    "        \n",
    "\n",
    "    \n",
    "    return model\n",
    "\n",
    "# This function uses our device's threshold parameters to predict whether or not\n",
    "# the image shows the presence of pneumonia using our trained model\n",
    "def predict_image(model, img, thresh): \n",
    "    pred_im = model.predict(img)   \n",
    "    if pred_im > thresh:\n",
    "        prediction= 'Pneumonia'\n",
    "    else:\n",
    "        prediction= 'Not Pneumonia'  \n",
    "    \n",
    "    return prediction "
   ]
  },
  {
   "cell_type": "code",
   "execution_count": null,
   "metadata": {},
   "outputs": [
    {
     "name": "stdout",
     "output_type": "stream",
     "text": [
      "loading\n",
      "Loading from json\n"
     ]
    }
   ],
   "source": [
    "test_dicoms = ['test1.dcm','test2.dcm','test3.dcm','test4.dcm','test5.dcm','test6.dcm']\n",
    "\n",
    "model_path = \"my_model.json\"\n",
    "weight_path = \"xray_class_my_model.best.hdf5\"\n",
    "\n",
    "IMG_SIZE=(1,224,224,3) # This might be different if you did not use vgg16\n",
    "#img_mean = # loads the mean image value they used during training preprocessing\n",
    "#img_std = # loads the std dev image value they used during training preprocessing\n",
    "print(\"loading\")\n",
    "my_model = load_model(model_path,weight_path)\n",
    "thresh = 0.67#loads the threshold they chose for model classification \n",
    "\n",
    "# use the .dcm files to test your prediction\n",
    "for i in test_dicoms:\n",
    "    print(i)\n",
    "    img = np.array([])\n",
    "    img = check_dicom(i)\n",
    "    \n",
    "    if img is None:\n",
    "        continue\n",
    "        \n",
    "    img_proc = preprocess_image(img,IMG_SIZE)\n",
    "    pred = predict_image(my_model,img_proc,thresh)\n",
    "    print(pred)"
   ]
  },
  {
   "cell_type": "code",
   "execution_count": null,
   "metadata": {},
   "outputs": [],
   "source": []
  }
 ],
 "metadata": {
  "kernelspec": {
   "display_name": "Python 3",
   "language": "python",
   "name": "python3"
  },
  "language_info": {
   "codemirror_mode": {
    "name": "ipython",
    "version": 3
   },
   "file_extension": ".py",
   "mimetype": "text/x-python",
   "name": "python",
   "nbconvert_exporter": "python",
   "pygments_lexer": "ipython3",
   "version": "3.7.6"
  }
 },
 "nbformat": 4,
 "nbformat_minor": 2
}
